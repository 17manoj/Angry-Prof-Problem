def angryProfessor(threshold, studentTimings):
    count = 0
    for time in studentTimings:
        if(time <=0):
            count=count + 1
            if(count==threshold):
                
                return "NO"
        
    return "YES"
